{
 "cells": [
  {
   "cell_type": "markdown",
   "metadata": {},
   "source": [
    "# Red Wine Quality\n",
    "## Determine Red Wine Quality Using Decision Tree"
   ]
  },
  {
   "cell_type": "code",
   "execution_count": 23,
   "metadata": {},
   "outputs": [],
   "source": [
    "import pandas as pd\n",
    "import numpy as np\n",
    "from sklearn.metrics import accuracy_score, confusion_matrix, classification_report\n",
    "from sklearn.model_selection import train_test_split"
   ]
  },
  {
   "cell_type": "markdown",
   "metadata": {},
   "source": [
    "### 1. Load and Analyze Data"
   ]
  },
  {
   "cell_type": "code",
   "execution_count": 6,
   "metadata": {},
   "outputs": [
    {
     "name": "stdout",
     "output_type": "stream",
     "text": [
      "(1599, 12)\n",
      "       fixed_acidity  volatile_acidity  citric_acid  residual_sugar  \\\n",
      "count    1599.000000       1599.000000  1599.000000     1599.000000   \n",
      "mean        8.319637          0.527821     0.270976        2.538806   \n",
      "std         1.741096          0.179060     0.194801        1.409928   \n",
      "min         4.600000          0.120000     0.000000        0.900000   \n",
      "25%         7.100000          0.390000     0.090000        1.900000   \n",
      "50%         7.900000          0.520000     0.260000        2.200000   \n",
      "75%         9.200000          0.640000     0.420000        2.600000   \n",
      "max        15.900000          1.580000     1.000000       15.500000   \n",
      "\n",
      "         chlorides  free_sulfur_dioxide  total_sulfur_dioxide      density  \\\n",
      "count  1599.000000          1599.000000           1599.000000  1599.000000   \n",
      "mean      0.087467            15.874922             46.467792     0.996747   \n",
      "std       0.047065            10.460157             32.895324     0.001887   \n",
      "min       0.012000             1.000000              6.000000     0.990070   \n",
      "25%       0.070000             7.000000             22.000000     0.995600   \n",
      "50%       0.079000            14.000000             38.000000     0.996750   \n",
      "75%       0.090000            21.000000             62.000000     0.997835   \n",
      "max       0.611000            72.000000            289.000000     1.003690   \n",
      "\n",
      "                pH    sulphates      alcohol      quality  \n",
      "count  1599.000000  1599.000000  1599.000000  1599.000000  \n",
      "mean      3.311113     0.658149    10.422983     5.636023  \n",
      "std       0.154386     0.169507     1.065668     0.807569  \n",
      "min       2.740000     0.330000     8.400000     3.000000  \n",
      "25%       3.210000     0.550000     9.500000     5.000000  \n",
      "50%       3.310000     0.620000    10.200000     6.000000  \n",
      "75%       3.400000     0.730000    11.100000     6.000000  \n",
      "max       4.010000     2.000000    14.900000     8.000000  \n",
      "      fixed_acidity  volatile_acidity  citric_acid  residual_sugar  chlorides  \\\n",
      "200             7.1              0.84         0.02             4.4      0.096   \n",
      "551             9.8              0.44         0.47             2.5      0.063   \n",
      "1016           10.1              0.27         0.54             2.3      0.065   \n",
      "1451            7.2              0.66         0.03             2.3      0.078   \n",
      "857             7.1              0.52         0.03             2.6      0.076   \n",
      "\n",
      "      free_sulfur_dioxide  total_sulfur_dioxide  density    pH  sulphates  \\\n",
      "200                   5.0                  13.0  0.99700  3.41       0.57   \n",
      "551                   9.0                  28.0  0.99810  3.24       0.65   \n",
      "1016                  7.0                  26.0  0.99531  3.17       0.53   \n",
      "1451                 16.0                  86.0  0.99743  3.53       0.57   \n",
      "857                  21.0                  92.0  0.99745  3.50       0.60   \n",
      "\n",
      "      alcohol  quality  \n",
      "200      11.0        4  \n",
      "551      10.8        6  \n",
      "1016     12.5        6  \n",
      "1451      9.7        5  \n",
      "857       9.8        5  \n"
     ]
    }
   ],
   "source": [
    "wine = pd.read_csv('Data/redwines.csv')\n",
    "print(wine.shape)\n",
    "print(wine.describe())\n",
    "print(wine.sample(5))"
   ]
  },
  {
   "cell_type": "code",
   "execution_count": 4,
   "metadata": {},
   "outputs": [
    {
     "name": "stdout",
     "output_type": "stream",
     "text": [
      "fixed_acidity           0.0\n",
      "volatile_acidity        0.0\n",
      "citric_acid             0.0\n",
      "residual_sugar          0.0\n",
      "chlorides               0.0\n",
      "free_sulfur_dioxide     0.0\n",
      "total_sulfur_dioxide    0.0\n",
      "density                 0.0\n",
      "pH                      0.0\n",
      "sulphates               0.0\n",
      "alcohol                 0.0\n",
      "quality                 0.0\n",
      "dtype: float64\n",
      "fixed_acidity           False\n",
      "volatile_acidity        False\n",
      "citric_acid             False\n",
      "residual_sugar          False\n",
      "chlorides               False\n",
      "free_sulfur_dioxide     False\n",
      "total_sulfur_dioxide    False\n",
      "density                 False\n",
      "pH                      False\n",
      "sulphates               False\n",
      "alcohol                 False\n",
      "quality                 False\n",
      "dtype: bool\n"
     ]
    }
   ],
   "source": [
    "# Print missing values\n",
    "print(wine.isnull().sum()/len(wine)*100)\n",
    "print(wine.isna().any())"
   ]
  },
  {
   "cell_type": "code",
   "execution_count": 39,
   "metadata": {},
   "outputs": [
    {
     "data": {
      "text/plain": [
       "(1599, 11)"
      ]
     },
     "execution_count": 39,
     "metadata": {},
     "output_type": "execute_result"
    }
   ],
   "source": [
    "X = wine.iloc[:,0:11].values\n",
    "y = wine.iloc[:,-1].values\n",
    "X.shape"
   ]
  },
  {
   "cell_type": "markdown",
   "metadata": {},
   "source": [
    "### 2. Build the Model and Check Accuracy"
   ]
  },
  {
   "cell_type": "code",
   "execution_count": 45,
   "metadata": {},
   "outputs": [],
   "source": [
    "X_train, X_test, y_train, y_test = train_test_split(X,y)\n",
    "from sklearn.tree import DecisionTreeClassifier\n",
    "dt = DecisionTreeClassifier(criterion = 'entropy')\n",
    "dt.fit(X_train, y_train)\n",
    "y_pred = dt.predict(X_test)\n"
   ]
  },
  {
   "cell_type": "code",
   "execution_count": 46,
   "metadata": {},
   "outputs": [
    {
     "name": "stdout",
     "output_type": "stream",
     "text": [
      "0.61\n",
      "[[  0   1   1   0   0   0]\n",
      " [  0   1   5   4   1   0]\n",
      " [  0   7 124  40   5   0]\n",
      " [  0   3  34  92  26   2]\n",
      " [  0   0   7  13  27   2]\n",
      " [  0   0   0   2   3   0]]\n"
     ]
    }
   ],
   "source": [
    "print(accuracy_score(y_test,y_pred))\n",
    "print(confusion_matrix(y_test, y_pred))"
   ]
  },
  {
   "cell_type": "code",
   "execution_count": 50,
   "metadata": {},
   "outputs": [
    {
     "name": "stdout",
     "output_type": "stream",
     "text": [
      "             precision    recall  f1-score   support\n",
      "\n",
      "          3       0.00      0.00      0.00         2\n",
      "          4       0.08      0.09      0.09        11\n",
      "          5       0.73      0.70      0.71       176\n",
      "          6       0.61      0.59      0.60       157\n",
      "          7       0.44      0.55      0.49        49\n",
      "          8       0.00      0.00      0.00         5\n",
      "\n",
      "avg / total       0.61      0.61      0.61       400\n",
      "\n",
      "[0.07822017 0.13082633 0.05159864 0.07508773 0.06806675 0.05125177\n",
      " 0.1078468  0.05609966 0.0879008  0.12612063 0.16698073]\n",
      "(400,) (400,)\n",
      "[[1.         0.54136418]\n",
      " [0.54136418 1.        ]]\n",
      "(0.541364179782519, 7.779090059053218e-32)\n"
     ]
    },
    {
     "name": "stderr",
     "output_type": "stream",
     "text": [
      "C:\\ProgramData\\Anaconda3\\lib\\site-packages\\sklearn\\metrics\\classification.py:1135: UndefinedMetricWarning: Precision and F-score are ill-defined and being set to 0.0 in labels with no predicted samples.\n",
      "  'precision', 'predicted', average, warn_for)\n"
     ]
    }
   ],
   "source": [
    "print(classification_report(y_test, y_pred))\n",
    "print(dt.feature_importances_)\n",
    "print(y_test.shape, y_pred.shape)\n",
    "print(np.corrcoef(y_test,y_pred))\n",
    "from scipy.stats.stats import pearsonr \n",
    "print(pearsonr(y_test,y_pred))"
   ]
  },
  {
   "cell_type": "code",
   "execution_count": 43,
   "metadata": {},
   "outputs": [
    {
     "name": "stdout",
     "output_type": "stream",
     "text": [
      "0.685\n",
      "[[  0   1   1   1   0   0]\n",
      " [  0   0   8   7   0   0]\n",
      " [  0   0 135  30   1   0]\n",
      " [  0   1  38 121   7   0]\n",
      " [  0   0   5  19  18   0]\n",
      " [  0   0   0   4   3   0]]\n"
     ]
    }
   ],
   "source": [
    "from sklearn.ensemble import RandomForestClassifier\n",
    "rf = RandomForestClassifier(criterion = 'entropy', n_estimators=100)\n",
    "rf.fit(X_train, y_train)\n",
    "y_pred = rf.predict(X_test)\n",
    "print(accuracy_score(y_test,y_pred))\n",
    "print(confusion_matrix(y_test, y_pred))"
   ]
  },
  {
   "cell_type": "code",
   "execution_count": 44,
   "metadata": {},
   "outputs": [
    {
     "name": "stdout",
     "output_type": "stream",
     "text": [
      "             precision    recall  f1-score   support\n",
      "\n",
      "          3       0.00      0.00      0.00         3\n",
      "          4       0.00      0.00      0.00        15\n",
      "          5       0.72      0.81      0.76       166\n",
      "          6       0.66      0.72      0.69       167\n",
      "          7       0.62      0.43      0.51        42\n",
      "          8       0.00      0.00      0.00         7\n",
      "\n",
      "avg / total       0.64      0.69      0.66       400\n",
      "\n",
      "[0.0712792  0.10786207 0.07335869 0.0668665  0.08127898 0.06651371\n",
      " 0.1044953  0.08832767 0.07040482 0.11737421 0.15223884]\n",
      "(400,) (400,)\n",
      "[[1.         0.57159266]\n",
      " [0.57159266 1.        ]]\n"
     ]
    },
    {
     "name": "stderr",
     "output_type": "stream",
     "text": [
      "C:\\ProgramData\\Anaconda3\\lib\\site-packages\\sklearn\\metrics\\classification.py:1135: UndefinedMetricWarning: Precision and F-score are ill-defined and being set to 0.0 in labels with no predicted samples.\n",
      "  'precision', 'predicted', average, warn_for)\n"
     ]
    }
   ],
   "source": [
    "print(classification_report(y_test, y_pred))\n",
    "print(rf.feature_importances_)\n",
    "print(y_test.shape, y_pred.shape)\n",
    "print(np.corrcoef(y_test,y_pred))"
   ]
  },
  {
   "cell_type": "code",
   "execution_count": null,
   "metadata": {},
   "outputs": [],
   "source": []
  }
 ],
 "metadata": {
  "kernelspec": {
   "display_name": "Python 3",
   "language": "python",
   "name": "python3"
  },
  "language_info": {
   "codemirror_mode": {
    "name": "ipython",
    "version": 3
   },
   "file_extension": ".py",
   "mimetype": "text/x-python",
   "name": "python",
   "nbconvert_exporter": "python",
   "pygments_lexer": "ipython3",
   "version": "3.6.5"
  }
 },
 "nbformat": 4,
 "nbformat_minor": 2
}
