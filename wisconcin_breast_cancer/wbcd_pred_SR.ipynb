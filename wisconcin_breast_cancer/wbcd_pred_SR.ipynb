{
 "cells": [
  {
   "cell_type": "markdown",
   "metadata": {},
   "source": [
    "# Wisconsin Breast Cancer Data\n",
    "## Tumor Prediction Using KNN"
   ]
  },
  {
   "cell_type": "code",
   "execution_count": 11,
   "metadata": {},
   "outputs": [],
   "source": [
    "import numpy as np\n",
    "import pandas as pd\n",
    "import matplotlib.pyplot as plt"
   ]
  },
  {
   "cell_type": "code",
   "execution_count": 2,
   "metadata": {},
   "outputs": [
    {
     "data": {
      "text/html": [
       "<div>\n",
       "<style scoped>\n",
       "    .dataframe tbody tr th:only-of-type {\n",
       "        vertical-align: middle;\n",
       "    }\n",
       "\n",
       "    .dataframe tbody tr th {\n",
       "        vertical-align: top;\n",
       "    }\n",
       "\n",
       "    .dataframe thead th {\n",
       "        text-align: right;\n",
       "    }\n",
       "</style>\n",
       "<table border=\"1\" class=\"dataframe\">\n",
       "  <thead>\n",
       "    <tr style=\"text-align: right;\">\n",
       "      <th></th>\n",
       "      <th>0</th>\n",
       "      <th>1</th>\n",
       "      <th>2</th>\n",
       "      <th>3</th>\n",
       "      <th>4</th>\n",
       "      <th>5</th>\n",
       "      <th>6</th>\n",
       "      <th>7</th>\n",
       "      <th>8</th>\n",
       "      <th>9</th>\n",
       "      <th>...</th>\n",
       "      <th>22</th>\n",
       "      <th>23</th>\n",
       "      <th>24</th>\n",
       "      <th>25</th>\n",
       "      <th>26</th>\n",
       "      <th>27</th>\n",
       "      <th>28</th>\n",
       "      <th>29</th>\n",
       "      <th>30</th>\n",
       "      <th>31</th>\n",
       "    </tr>\n",
       "  </thead>\n",
       "  <tbody>\n",
       "    <tr>\n",
       "      <th>344</th>\n",
       "      <td>89864002</td>\n",
       "      <td>B</td>\n",
       "      <td>11.710</td>\n",
       "      <td>15.45</td>\n",
       "      <td>75.03</td>\n",
       "      <td>420.3</td>\n",
       "      <td>0.11500</td>\n",
       "      <td>0.07281</td>\n",
       "      <td>0.04006</td>\n",
       "      <td>0.032500</td>\n",
       "      <td>...</td>\n",
       "      <td>13.060</td>\n",
       "      <td>18.16</td>\n",
       "      <td>84.16</td>\n",
       "      <td>516.4</td>\n",
       "      <td>0.1460</td>\n",
       "      <td>0.11150</td>\n",
       "      <td>0.10870</td>\n",
       "      <td>0.07864</td>\n",
       "      <td>0.2765</td>\n",
       "      <td>0.07806</td>\n",
       "    </tr>\n",
       "    <tr>\n",
       "      <th>175</th>\n",
       "      <td>872113</td>\n",
       "      <td>B</td>\n",
       "      <td>8.671</td>\n",
       "      <td>14.45</td>\n",
       "      <td>54.42</td>\n",
       "      <td>227.2</td>\n",
       "      <td>0.09138</td>\n",
       "      <td>0.04276</td>\n",
       "      <td>0.00000</td>\n",
       "      <td>0.000000</td>\n",
       "      <td>...</td>\n",
       "      <td>9.262</td>\n",
       "      <td>17.04</td>\n",
       "      <td>58.36</td>\n",
       "      <td>259.2</td>\n",
       "      <td>0.1162</td>\n",
       "      <td>0.07057</td>\n",
       "      <td>0.00000</td>\n",
       "      <td>0.00000</td>\n",
       "      <td>0.2592</td>\n",
       "      <td>0.07848</td>\n",
       "    </tr>\n",
       "    <tr>\n",
       "      <th>264</th>\n",
       "      <td>889719</td>\n",
       "      <td>M</td>\n",
       "      <td>17.190</td>\n",
       "      <td>22.07</td>\n",
       "      <td>111.60</td>\n",
       "      <td>928.3</td>\n",
       "      <td>0.09726</td>\n",
       "      <td>0.08995</td>\n",
       "      <td>0.09061</td>\n",
       "      <td>0.065270</td>\n",
       "      <td>...</td>\n",
       "      <td>21.580</td>\n",
       "      <td>29.33</td>\n",
       "      <td>140.50</td>\n",
       "      <td>1436.0</td>\n",
       "      <td>0.1558</td>\n",
       "      <td>0.25670</td>\n",
       "      <td>0.38890</td>\n",
       "      <td>0.19840</td>\n",
       "      <td>0.3216</td>\n",
       "      <td>0.07570</td>\n",
       "    </tr>\n",
       "    <tr>\n",
       "      <th>105</th>\n",
       "      <td>863030</td>\n",
       "      <td>M</td>\n",
       "      <td>13.110</td>\n",
       "      <td>15.56</td>\n",
       "      <td>87.21</td>\n",
       "      <td>530.2</td>\n",
       "      <td>0.13980</td>\n",
       "      <td>0.17650</td>\n",
       "      <td>0.20710</td>\n",
       "      <td>0.096010</td>\n",
       "      <td>...</td>\n",
       "      <td>16.310</td>\n",
       "      <td>22.40</td>\n",
       "      <td>106.40</td>\n",
       "      <td>827.2</td>\n",
       "      <td>0.1862</td>\n",
       "      <td>0.40990</td>\n",
       "      <td>0.63760</td>\n",
       "      <td>0.19860</td>\n",
       "      <td>0.3147</td>\n",
       "      <td>0.14050</td>\n",
       "    </tr>\n",
       "    <tr>\n",
       "      <th>442</th>\n",
       "      <td>90944601</td>\n",
       "      <td>B</td>\n",
       "      <td>13.780</td>\n",
       "      <td>15.79</td>\n",
       "      <td>88.37</td>\n",
       "      <td>585.9</td>\n",
       "      <td>0.08817</td>\n",
       "      <td>0.06718</td>\n",
       "      <td>0.01055</td>\n",
       "      <td>0.009937</td>\n",
       "      <td>...</td>\n",
       "      <td>15.270</td>\n",
       "      <td>17.50</td>\n",
       "      <td>97.90</td>\n",
       "      <td>706.6</td>\n",
       "      <td>0.1072</td>\n",
       "      <td>0.10710</td>\n",
       "      <td>0.03517</td>\n",
       "      <td>0.03312</td>\n",
       "      <td>0.1859</td>\n",
       "      <td>0.06810</td>\n",
       "    </tr>\n",
       "  </tbody>\n",
       "</table>\n",
       "<p>5 rows × 32 columns</p>\n",
       "</div>"
      ],
      "text/plain": [
       "           0  1       2      3       4      5        6        7        8   \\\n",
       "344  89864002  B  11.710  15.45   75.03  420.3  0.11500  0.07281  0.04006   \n",
       "175    872113  B   8.671  14.45   54.42  227.2  0.09138  0.04276  0.00000   \n",
       "264    889719  M  17.190  22.07  111.60  928.3  0.09726  0.08995  0.09061   \n",
       "105    863030  M  13.110  15.56   87.21  530.2  0.13980  0.17650  0.20710   \n",
       "442  90944601  B  13.780  15.79   88.37  585.9  0.08817  0.06718  0.01055   \n",
       "\n",
       "           9    ...         22     23      24      25      26       27  \\\n",
       "344  0.032500   ...     13.060  18.16   84.16   516.4  0.1460  0.11150   \n",
       "175  0.000000   ...      9.262  17.04   58.36   259.2  0.1162  0.07057   \n",
       "264  0.065270   ...     21.580  29.33  140.50  1436.0  0.1558  0.25670   \n",
       "105  0.096010   ...     16.310  22.40  106.40   827.2  0.1862  0.40990   \n",
       "442  0.009937   ...     15.270  17.50   97.90   706.6  0.1072  0.10710   \n",
       "\n",
       "          28       29      30       31  \n",
       "344  0.10870  0.07864  0.2765  0.07806  \n",
       "175  0.00000  0.00000  0.2592  0.07848  \n",
       "264  0.38890  0.19840  0.3216  0.07570  \n",
       "105  0.63760  0.19860  0.3147  0.14050  \n",
       "442  0.03517  0.03312  0.1859  0.06810  \n",
       "\n",
       "[5 rows x 32 columns]"
      ]
     },
     "execution_count": 2,
     "metadata": {},
     "output_type": "execute_result"
    }
   ],
   "source": [
    "# load data\n",
    "wdbc = pd.read_csv(\"Data/wdbc.data\", header=None)\n",
    "wdbc.sample(5)"
   ]
  },
  {
   "cell_type": "code",
   "execution_count": 3,
   "metadata": {},
   "outputs": [
    {
     "data": {
      "text/plain": [
       "[(569, 30), (569, 1)]"
      ]
     },
     "execution_count": 3,
     "metadata": {},
     "output_type": "execute_result"
    }
   ],
   "source": [
    "# split data into dependant and independant variables\n",
    "X=wdbc.iloc[:,2:32].values\n",
    "y=wdbc.iloc[:,1:2].values\n",
    "[X.shape, y.shape]"
   ]
  },
  {
   "cell_type": "code",
   "execution_count": 4,
   "metadata": {},
   "outputs": [
    {
     "name": "stderr",
     "output_type": "stream",
     "text": [
      "C:\\ProgramData\\Anaconda3\\lib\\site-packages\\sklearn\\preprocessing\\label.py:111: DataConversionWarning: A column-vector y was passed when a 1d array was expected. Please change the shape of y to (n_samples, ), for example using ravel().\n",
      "  y = column_or_1d(y, warn=True)\n"
     ]
    },
    {
     "data": {
      "text/plain": [
       "array([1, 1, 1, 1, 1], dtype=int64)"
      ]
     },
     "execution_count": 4,
     "metadata": {},
     "output_type": "execute_result"
    }
   ],
   "source": [
    "# encode tumor type data\n",
    "from sklearn.preprocessing import LabelEncoder\n",
    "labelencoder_y = LabelEncoder()\n",
    "y = labelencoder_y.fit_transform(y)\n",
    "y[0:5]"
   ]
  },
  {
   "cell_type": "code",
   "execution_count": 5,
   "metadata": {},
   "outputs": [
    {
     "data": {
      "text/plain": [
       "[(114, 30), (114,)]"
      ]
     },
     "execution_count": 5,
     "metadata": {},
     "output_type": "execute_result"
    }
   ],
   "source": [
    "# test and train set split\n",
    "from sklearn.model_selection import train_test_split\n",
    "X_train, X_test, y_train, y_test = train_test_split(X,y,test_size = 0.2, random_state = 0)\n",
    "[X_test.shape, y_test.shape]"
   ]
  },
  {
   "cell_type": "code",
   "execution_count": 6,
   "metadata": {},
   "outputs": [
    {
     "data": {
      "text/plain": [
       "array([[-1.15036482, -0.39064196, -1.12855021, -0.95876358,  0.3109837 ,\n",
       "        -0.5959945 , -0.80259612, -0.80249002,  0.29453906,  0.0942515 ,\n",
       "        -0.4950523 ,  1.48720153, -0.51448782, -0.49154005,  0.28149837,\n",
       "        -0.60451206, -0.46900701, -0.61170002,  0.05798237, -0.35763702,\n",
       "        -1.0431756 ,  0.21353282, -1.0360446 , -0.84880771,  0.34249851,\n",
       "        -0.73009743, -0.81232053, -0.75798367, -0.01614761, -0.38503402],\n",
       "       [-0.93798972,  0.68051405, -0.94820146, -0.82152548, -0.60963604,\n",
       "        -0.90986721, -0.66066905, -0.89871612,  0.75493453, -0.42547082,\n",
       "        -0.33381757,  0.75941203, -0.28751805, -0.42127695, -0.1620797 ,\n",
       "        -0.20486693, -0.05029632, -0.20309076, -0.25469005, -0.39139463,\n",
       "        -0.71565415,  1.06684183, -0.68992205, -0.66869703, -0.09553745,\n",
       "        -0.53786647, -0.37504806, -0.60687023,  0.09669004, -0.38615797]])"
      ]
     },
     "execution_count": 6,
     "metadata": {},
     "output_type": "execute_result"
    }
   ],
   "source": [
    "# standard scaling based on mean and variance\n",
    "from sklearn.preprocessing import StandardScaler\n",
    "sc_X = StandardScaler()\n",
    "X_train = sc_X.fit_transform(X_train)\n",
    "X_test = sc_X.fit_transform(X_test)\n",
    "X_train[0:2,:]\n",
    "# option2: use normalize to scale to [0,1]"
   ]
  },
  {
   "cell_type": "code",
   "execution_count": 7,
   "metadata": {},
   "outputs": [
    {
     "data": {
      "text/plain": [
       "KNeighborsClassifier(algorithm='auto', leaf_size=30, metric='minkowski',\n",
       "           metric_params=None, n_jobs=1, n_neighbors=5, p=2,\n",
       "           weights='uniform')"
      ]
     },
     "execution_count": 7,
     "metadata": {},
     "output_type": "execute_result"
    }
   ],
   "source": [
    "# train the KNN classifier\n",
    "from sklearn.neighbors import KNeighborsClassifier\n",
    "knn = KNeighborsClassifier(n_neighbors=5, p=2, metric='minkowski')\n",
    "knn.fit(X_train,y_train)"
   ]
  },
  {
   "cell_type": "code",
   "execution_count": 8,
   "metadata": {},
   "outputs": [],
   "source": [
    "# predicting the tumor type on the test set\n",
    "y_pred = knn.predict(X_test)"
   ]
  },
  {
   "cell_type": "code",
   "execution_count": 9,
   "metadata": {},
   "outputs": [
    {
     "data": {
      "text/plain": [
       "array([[67,  0],\n",
       "       [ 4, 43]], dtype=int64)"
      ]
     },
     "execution_count": 9,
     "metadata": {},
     "output_type": "execute_result"
    }
   ],
   "source": [
    "# making a confusion matrix\n",
    "from sklearn.metrics import confusion_matrix\n",
    "cm = confusion_matrix(y_test, y_pred)\n",
    "cm"
   ]
  },
  {
   "cell_type": "code",
   "execution_count": null,
   "metadata": {
    "scrolled": true
   },
   "outputs": [],
   "source": []
  },
  {
   "cell_type": "code",
   "execution_count": null,
   "metadata": {},
   "outputs": [],
   "source": []
  }
 ],
 "metadata": {
  "kernelspec": {
   "display_name": "Python 3",
   "language": "python",
   "name": "python3"
  },
  "language_info": {
   "codemirror_mode": {
    "name": "ipython",
    "version": 3
   },
   "file_extension": ".py",
   "mimetype": "text/x-python",
   "name": "python",
   "nbconvert_exporter": "python",
   "pygments_lexer": "ipython3",
   "version": "3.6.5"
  }
 },
 "nbformat": 4,
 "nbformat_minor": 2
}
