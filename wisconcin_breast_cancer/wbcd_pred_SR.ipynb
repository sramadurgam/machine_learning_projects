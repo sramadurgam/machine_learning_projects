{
 "cells": [
  {
   "cell_type": "markdown",
   "metadata": {},
   "source": [
    "# Wisconsin Breast Cancer Data\n",
    "## Tumor Prediction Using KNN"
   ]
  },
  {
   "cell_type": "code",
   "execution_count": 1,
   "metadata": {},
   "outputs": [],
   "source": [
    "import numpy as np\n",
    "import pandas as pd\n",
    "import matplotlib.pyplot as plt"
   ]
  },
  {
   "cell_type": "code",
   "execution_count": 2,
   "metadata": {},
   "outputs": [
    {
     "data": {
      "text/html": [
       "<div>\n",
       "<style scoped>\n",
       "    .dataframe tbody tr th:only-of-type {\n",
       "        vertical-align: middle;\n",
       "    }\n",
       "\n",
       "    .dataframe tbody tr th {\n",
       "        vertical-align: top;\n",
       "    }\n",
       "\n",
       "    .dataframe thead th {\n",
       "        text-align: right;\n",
       "    }\n",
       "</style>\n",
       "<table border=\"1\" class=\"dataframe\">\n",
       "  <thead>\n",
       "    <tr style=\"text-align: right;\">\n",
       "      <th></th>\n",
       "      <th>0</th>\n",
       "      <th>1</th>\n",
       "      <th>2</th>\n",
       "      <th>3</th>\n",
       "      <th>4</th>\n",
       "      <th>5</th>\n",
       "      <th>6</th>\n",
       "      <th>7</th>\n",
       "      <th>8</th>\n",
       "      <th>9</th>\n",
       "      <th>...</th>\n",
       "      <th>22</th>\n",
       "      <th>23</th>\n",
       "      <th>24</th>\n",
       "      <th>25</th>\n",
       "      <th>26</th>\n",
       "      <th>27</th>\n",
       "      <th>28</th>\n",
       "      <th>29</th>\n",
       "      <th>30</th>\n",
       "      <th>31</th>\n",
       "    </tr>\n",
       "  </thead>\n",
       "  <tbody>\n",
       "    <tr>\n",
       "      <th>61</th>\n",
       "      <td>858981</td>\n",
       "      <td>B</td>\n",
       "      <td>8.598</td>\n",
       "      <td>20.98</td>\n",
       "      <td>54.66</td>\n",
       "      <td>221.8</td>\n",
       "      <td>0.12430</td>\n",
       "      <td>0.08963</td>\n",
       "      <td>0.030000</td>\n",
       "      <td>0.009259</td>\n",
       "      <td>...</td>\n",
       "      <td>9.565</td>\n",
       "      <td>27.04</td>\n",
       "      <td>62.06</td>\n",
       "      <td>273.9</td>\n",
       "      <td>0.1639</td>\n",
       "      <td>0.16980</td>\n",
       "      <td>0.090010</td>\n",
       "      <td>0.02778</td>\n",
       "      <td>0.2972</td>\n",
       "      <td>0.07712</td>\n",
       "    </tr>\n",
       "    <tr>\n",
       "      <th>276</th>\n",
       "      <td>8911230</td>\n",
       "      <td>B</td>\n",
       "      <td>11.330</td>\n",
       "      <td>14.16</td>\n",
       "      <td>71.79</td>\n",
       "      <td>396.6</td>\n",
       "      <td>0.09379</td>\n",
       "      <td>0.03872</td>\n",
       "      <td>0.001487</td>\n",
       "      <td>0.003333</td>\n",
       "      <td>...</td>\n",
       "      <td>12.200</td>\n",
       "      <td>18.99</td>\n",
       "      <td>77.37</td>\n",
       "      <td>458.0</td>\n",
       "      <td>0.1259</td>\n",
       "      <td>0.07348</td>\n",
       "      <td>0.004955</td>\n",
       "      <td>0.01111</td>\n",
       "      <td>0.2758</td>\n",
       "      <td>0.06386</td>\n",
       "    </tr>\n",
       "    <tr>\n",
       "      <th>148</th>\n",
       "      <td>86973702</td>\n",
       "      <td>B</td>\n",
       "      <td>14.440</td>\n",
       "      <td>15.18</td>\n",
       "      <td>93.97</td>\n",
       "      <td>640.1</td>\n",
       "      <td>0.09970</td>\n",
       "      <td>0.10210</td>\n",
       "      <td>0.084870</td>\n",
       "      <td>0.055320</td>\n",
       "      <td>...</td>\n",
       "      <td>15.850</td>\n",
       "      <td>19.85</td>\n",
       "      <td>108.60</td>\n",
       "      <td>766.9</td>\n",
       "      <td>0.1316</td>\n",
       "      <td>0.27350</td>\n",
       "      <td>0.310300</td>\n",
       "      <td>0.15990</td>\n",
       "      <td>0.2691</td>\n",
       "      <td>0.07683</td>\n",
       "    </tr>\n",
       "    <tr>\n",
       "      <th>46</th>\n",
       "      <td>85713702</td>\n",
       "      <td>B</td>\n",
       "      <td>8.196</td>\n",
       "      <td>16.84</td>\n",
       "      <td>51.71</td>\n",
       "      <td>201.9</td>\n",
       "      <td>0.08600</td>\n",
       "      <td>0.05943</td>\n",
       "      <td>0.015880</td>\n",
       "      <td>0.005917</td>\n",
       "      <td>...</td>\n",
       "      <td>8.964</td>\n",
       "      <td>21.96</td>\n",
       "      <td>57.26</td>\n",
       "      <td>242.2</td>\n",
       "      <td>0.1297</td>\n",
       "      <td>0.13570</td>\n",
       "      <td>0.068800</td>\n",
       "      <td>0.02564</td>\n",
       "      <td>0.3105</td>\n",
       "      <td>0.07409</td>\n",
       "    </tr>\n",
       "    <tr>\n",
       "      <th>100</th>\n",
       "      <td>862717</td>\n",
       "      <td>M</td>\n",
       "      <td>13.610</td>\n",
       "      <td>24.98</td>\n",
       "      <td>88.05</td>\n",
       "      <td>582.7</td>\n",
       "      <td>0.09488</td>\n",
       "      <td>0.08511</td>\n",
       "      <td>0.086250</td>\n",
       "      <td>0.044890</td>\n",
       "      <td>...</td>\n",
       "      <td>16.990</td>\n",
       "      <td>35.27</td>\n",
       "      <td>108.60</td>\n",
       "      <td>906.5</td>\n",
       "      <td>0.1265</td>\n",
       "      <td>0.19430</td>\n",
       "      <td>0.316900</td>\n",
       "      <td>0.11840</td>\n",
       "      <td>0.2651</td>\n",
       "      <td>0.07397</td>\n",
       "    </tr>\n",
       "  </tbody>\n",
       "</table>\n",
       "<p>5 rows × 32 columns</p>\n",
       "</div>"
      ],
      "text/plain": [
       "           0  1       2      3      4      5        6        7         8   \\\n",
       "61     858981  B   8.598  20.98  54.66  221.8  0.12430  0.08963  0.030000   \n",
       "276   8911230  B  11.330  14.16  71.79  396.6  0.09379  0.03872  0.001487   \n",
       "148  86973702  B  14.440  15.18  93.97  640.1  0.09970  0.10210  0.084870   \n",
       "46   85713702  B   8.196  16.84  51.71  201.9  0.08600  0.05943  0.015880   \n",
       "100    862717  M  13.610  24.98  88.05  582.7  0.09488  0.08511  0.086250   \n",
       "\n",
       "           9    ...         22     23      24     25      26       27  \\\n",
       "61   0.009259   ...      9.565  27.04   62.06  273.9  0.1639  0.16980   \n",
       "276  0.003333   ...     12.200  18.99   77.37  458.0  0.1259  0.07348   \n",
       "148  0.055320   ...     15.850  19.85  108.60  766.9  0.1316  0.27350   \n",
       "46   0.005917   ...      8.964  21.96   57.26  242.2  0.1297  0.13570   \n",
       "100  0.044890   ...     16.990  35.27  108.60  906.5  0.1265  0.19430   \n",
       "\n",
       "           28       29      30       31  \n",
       "61   0.090010  0.02778  0.2972  0.07712  \n",
       "276  0.004955  0.01111  0.2758  0.06386  \n",
       "148  0.310300  0.15990  0.2691  0.07683  \n",
       "46   0.068800  0.02564  0.3105  0.07409  \n",
       "100  0.316900  0.11840  0.2651  0.07397  \n",
       "\n",
       "[5 rows x 32 columns]"
      ]
     },
     "execution_count": 2,
     "metadata": {},
     "output_type": "execute_result"
    }
   ],
   "source": [
    "# load data\n",
    "wdbc = pd.read_csv(\"Data/wdbc.data\", header=None)\n",
    "wdbc.sample(5)"
   ]
  },
  {
   "cell_type": "code",
   "execution_count": 3,
   "metadata": {},
   "outputs": [
    {
     "data": {
      "text/plain": [
       "[(569, 30), (569, 1)]"
      ]
     },
     "execution_count": 3,
     "metadata": {},
     "output_type": "execute_result"
    }
   ],
   "source": [
    "# split data into dependant and independant variables\n",
    "X=wdbc.iloc[:,2:32].values\n",
    "y=wdbc.iloc[:,1:2].values\n",
    "[X.shape, y.shape]"
   ]
  },
  {
   "cell_type": "code",
   "execution_count": 4,
   "metadata": {},
   "outputs": [
    {
     "name": "stderr",
     "output_type": "stream",
     "text": [
      "C:\\ProgramData\\Anaconda3\\lib\\site-packages\\sklearn\\preprocessing\\label.py:111: DataConversionWarning: A column-vector y was passed when a 1d array was expected. Please change the shape of y to (n_samples, ), for example using ravel().\n",
      "  y = column_or_1d(y, warn=True)\n"
     ]
    },
    {
     "data": {
      "text/plain": [
       "array([1, 1, 1, 1, 1], dtype=int64)"
      ]
     },
     "execution_count": 4,
     "metadata": {},
     "output_type": "execute_result"
    }
   ],
   "source": [
    "# encode tumor type data\n",
    "from sklearn.preprocessing import LabelEncoder\n",
    "labelencoder_y = LabelEncoder()\n",
    "y = labelencoder_y.fit_transform(y)\n",
    "y[0:5]"
   ]
  },
  {
   "cell_type": "code",
   "execution_count": 5,
   "metadata": {},
   "outputs": [
    {
     "data": {
      "text/plain": [
       "[(114, 30), (114,)]"
      ]
     },
     "execution_count": 5,
     "metadata": {},
     "output_type": "execute_result"
    }
   ],
   "source": [
    "# test and train set split\n",
    "from sklearn.model_selection import train_test_split\n",
    "X_train, X_test, y_train, y_test = train_test_split(X,y,test_size = 0.2, random_state = 0)\n",
    "[X_test.shape, y_test.shape]"
   ]
  },
  {
   "cell_type": "code",
   "execution_count": 6,
   "metadata": {},
   "outputs": [
    {
     "data": {
      "text/plain": [
       "array([[-1.15036482, -0.39064196, -1.12855021, -0.95876358,  0.3109837 ,\n",
       "        -0.5959945 , -0.80259612, -0.80249002,  0.29453906,  0.0942515 ,\n",
       "        -0.4950523 ,  1.48720153, -0.51448782, -0.49154005,  0.28149837,\n",
       "        -0.60451206, -0.46900701, -0.61170002,  0.05798237, -0.35763702,\n",
       "        -1.0431756 ,  0.21353282, -1.0360446 , -0.84880771,  0.34249851,\n",
       "        -0.73009743, -0.81232053, -0.75798367, -0.01614761, -0.38503402],\n",
       "       [-0.93798972,  0.68051405, -0.94820146, -0.82152548, -0.60963604,\n",
       "        -0.90986721, -0.66066905, -0.89871612,  0.75493453, -0.42547082,\n",
       "        -0.33381757,  0.75941203, -0.28751805, -0.42127695, -0.1620797 ,\n",
       "        -0.20486693, -0.05029632, -0.20309076, -0.25469005, -0.39139463,\n",
       "        -0.71565415,  1.06684183, -0.68992205, -0.66869703, -0.09553745,\n",
       "        -0.53786647, -0.37504806, -0.60687023,  0.09669004, -0.38615797]])"
      ]
     },
     "execution_count": 6,
     "metadata": {},
     "output_type": "execute_result"
    }
   ],
   "source": [
    "# standard scaling based on mean and variance\n",
    "from sklearn.preprocessing import StandardScaler\n",
    "sc_X = StandardScaler()\n",
    "X_train = sc_X.fit_transform(X_train)\n",
    "X_test = sc_X.fit_transform(X_test)\n",
    "X_train[0:2,:]\n",
    "# option2: use normalize to scale to [0,1]"
   ]
  },
  {
   "cell_type": "code",
   "execution_count": 7,
   "metadata": {},
   "outputs": [
    {
     "data": {
      "text/plain": [
       "KNeighborsClassifier(algorithm='auto', leaf_size=30, metric='minkowski',\n",
       "           metric_params=None, n_jobs=1, n_neighbors=5, p=2,\n",
       "           weights='uniform')"
      ]
     },
     "execution_count": 7,
     "metadata": {},
     "output_type": "execute_result"
    }
   ],
   "source": [
    "# train the KNN classifier\n",
    "from sklearn.neighbors import KNeighborsClassifier\n",
    "knn = KNeighborsClassifier(n_neighbors=5, p=2, metric='minkowski')\n",
    "knn.fit(X_train,y_train)"
   ]
  },
  {
   "cell_type": "code",
   "execution_count": 8,
   "metadata": {},
   "outputs": [],
   "source": [
    "# predicting the tumor type on the test set\n",
    "y_pred = knn.predict(X_test)"
   ]
  },
  {
   "cell_type": "code",
   "execution_count": 9,
   "metadata": {},
   "outputs": [
    {
     "data": {
      "text/plain": [
       "array([[67,  0],\n",
       "       [ 4, 43]], dtype=int64)"
      ]
     },
     "execution_count": 9,
     "metadata": {},
     "output_type": "execute_result"
    }
   ],
   "source": [
    "# making a confusion matrix\n",
    "from sklearn.metrics import confusion_matrix\n",
    "cm = confusion_matrix(y_test, y_pred)\n",
    "cm"
   ]
  },
  {
   "cell_type": "code",
   "execution_count": 11,
   "metadata": {
    "scrolled": true
   },
   "outputs": [
    {
     "name": "stdout",
     "output_type": "stream",
     "text": [
      "0.9649122807017544\n",
      "             precision    recall  f1-score   support\n",
      "\n",
      "          0       0.94      1.00      0.97        67\n",
      "          1       1.00      0.91      0.96        47\n",
      "\n",
      "avg / total       0.97      0.96      0.96       114\n",
      "\n"
     ]
    }
   ],
   "source": [
    "# accuracy of model\n",
    "from sklearn.metrics import accuracy_score, classification_report\n",
    "print(accuracy_score(y_test, y_pred))\n",
    "print(classification_report(y_test, y_pred))"
   ]
  },
  {
   "cell_type": "code",
   "execution_count": null,
   "metadata": {},
   "outputs": [],
   "source": [
    "# "
   ]
  }
 ],
 "metadata": {
  "kernelspec": {
   "display_name": "Python 3",
   "language": "python",
   "name": "python3"
  },
  "language_info": {
   "codemirror_mode": {
    "name": "ipython",
    "version": 3
   },
   "file_extension": ".py",
   "mimetype": "text/x-python",
   "name": "python",
   "nbconvert_exporter": "python",
   "pygments_lexer": "ipython3",
   "version": "3.6.5"
  }
 },
 "nbformat": 4,
 "nbformat_minor": 2
}
